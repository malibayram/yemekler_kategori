{
 "cells": [
  {
   "cell_type": "code",
   "execution_count": 1,
   "source": [
    "print(\"çalıştı\")"
   ],
   "outputs": [
    {
     "output_type": "stream",
     "name": "stdout",
     "text": [
      "çalıştı\n"
     ]
    }
   ],
   "metadata": {}
  },
  {
   "cell_type": "code",
   "execution_count": 1,
   "source": [
    "from oauth2client.service_account import ServiceAccountCredentials"
   ],
   "outputs": [],
   "metadata": {}
  },
  {
   "cell_type": "code",
   "execution_count": 2,
   "source": [
    "SCOPES = ['https://www.googleapis.com/auth/firebase.messaging']"
   ],
   "outputs": [],
   "metadata": {}
  },
  {
   "cell_type": "code",
   "execution_count": 3,
   "source": [
    "credentials = ServiceAccountCredentials.from_json_keyfile_name(\n",
    "      '/Users/mab/Downloads/yemekkategori-firebase-adminsdk-27jq1-e51e49e814.json', SCOPES)\n",
    "access_token_info = credentials.get_access_token()"
   ],
   "outputs": [],
   "metadata": {}
  },
  {
   "cell_type": "code",
   "execution_count": 4,
   "source": [
    "access_token_info"
   ],
   "outputs": [
    {
     "output_type": "execute_result",
     "data": {
      "text/plain": [
       "AccessTokenInfo(access_token='ya29.c.Kp8BEQhz0h2YFmpyJyvuDZ96pSGTYoyRbzDo-PxTzsBd2LrFEhtnv6yEsPQ4NoyP-STxvd9qsnTpvFfcQuxPt4Cl1XQRj-dm_534Mcv82jPoANeQiXu_oVq2uP04j_mliLe3BoGy0mJ1MdEmKKkgbXNcLShsWNsitlAraJaFT6zIDAFflcybYSWUhC_XzARs6Awi5q_WR7GwUBspC0FhllHy...............................................................................................................................................................................................................................................................................................................................................................................................................................................................................................................................................................................................................................................................................................................................................................................................', expires_in=3598)"
      ]
     },
     "metadata": {},
     "execution_count": 4
    }
   ],
   "metadata": {}
  },
  {
   "cell_type": "code",
   "execution_count": 5,
   "source": [
    "access_token_info.access_token"
   ],
   "outputs": [
    {
     "output_type": "execute_result",
     "data": {
      "text/plain": [
       "'ya29.c.Kp8BEQhz0h2YFmpyJyvuDZ96pSGTYoyRbzDo-PxTzsBd2LrFEhtnv6yEsPQ4NoyP-STxvd9qsnTpvFfcQuxPt4Cl1XQRj-dm_534Mcv82jPoANeQiXu_oVq2uP04j_mliLe3BoGy0mJ1MdEmKKkgbXNcLShsWNsitlAraJaFT6zIDAFflcybYSWUhC_XzARs6Awi5q_WR7GwUBspC0FhllHy...............................................................................................................................................................................................................................................................................................................................................................................................................................................................................................................................................................................................................................................................................................................................................................................................'"
      ]
     },
     "metadata": {},
     "execution_count": 5
    }
   ],
   "metadata": {}
  },
  {
   "cell_type": "code",
   "execution_count": null,
   "source": [],
   "outputs": [],
   "metadata": {}
  }
 ],
 "metadata": {
  "orig_nbformat": 4,
  "language_info": {
   "name": "python",
   "version": "3.9.5",
   "mimetype": "text/x-python",
   "codemirror_mode": {
    "name": "ipython",
    "version": 3
   },
   "pygments_lexer": "ipython3",
   "nbconvert_exporter": "python",
   "file_extension": ".py"
  },
  "kernelspec": {
   "name": "python3",
   "display_name": "Python 3.9.5 64-bit"
  },
  "interpreter": {
   "hash": "aee8b7b246df8f9039afb4144a1f6fd8d2ca17a180786b69acc140d282b71a49"
  }
 },
 "nbformat": 4,
 "nbformat_minor": 2
}