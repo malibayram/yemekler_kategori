{
 "cells": [
  {
   "cell_type": "code",
   "execution_count": 1,
   "source": [
    "print(\"çalıştı\")"
   ],
   "outputs": [
    {
     "output_type": "stream",
     "name": "stdout",
     "text": [
      "çalıştı\n"
     ]
    }
   ],
   "metadata": {}
  },
  {
   "cell_type": "code",
   "execution_count": 4,
   "source": [
    "import argparse\n",
    "import json\n",
    "import requests\n",
    "\n",
    "from oauth2client.service_account import ServiceAccountCredentials"
   ],
   "outputs": [],
   "metadata": {}
  },
  {
   "cell_type": "code",
   "execution_count": 7,
   "source": [
    "SCOPES = ['https://www.googleapis.com/auth/firebase.messaging']"
   ],
   "outputs": [],
   "metadata": {}
  },
  {
   "cell_type": "code",
   "execution_count": 8,
   "source": [
    "credentials = ServiceAccountCredentials.from_json_keyfile_name(\n",
    "      '/Users/mab/Downloads/yemekkategori-firebase-adminsdk-27jq1-e51e49e814.json', SCOPES)\n",
    "access_token_info = credentials.get_access_token()"
   ],
   "outputs": [],
   "metadata": {}
  },
  {
   "cell_type": "code",
   "execution_count": 9,
   "source": [
    "access_token_info"
   ],
   "outputs": [
    {
     "output_type": "execute_result",
     "data": {
      "text/plain": [
       "AccessTokenInfo(access_token='ya29.c.Kp8BEQj2xXv-w_pmFsmcxZH8TPV9nqsuhloKNeaIx3vUBmyxtm6_M4r2ZyFqWgfPMGtqC1WYVt6pDdz0a4mv9p_oe4653RV1-bVrwsiuYXhxnyIOuJG5JIa21bPMdWDE3Ap_suo_4e7WsygvvSqijDcO5myRJGgQTGyp2oQp-7i3HCk5MjUcuvUiBCnC7pBqIjR1D34o159C9bCQXLUcNogq...............................................................................................................................................................................................................................................................................................................................................................................................................................................................................................................................................................................................................................................................................................................................................................................................', expires_in=3598)"
      ]
     },
     "metadata": {},
     "execution_count": 9
    }
   ],
   "metadata": {}
  },
  {
   "cell_type": "code",
   "execution_count": 10,
   "source": [
    "access_token_info.access_token"
   ],
   "outputs": [
    {
     "output_type": "execute_result",
     "data": {
      "text/plain": [
       "'ya29.c.Kp8BEQj2xXv-w_pmFsmcxZH8TPV9nqsuhloKNeaIx3vUBmyxtm6_M4r2ZyFqWgfPMGtqC1WYVt6pDdz0a4mv9p_oe4653RV1-bVrwsiuYXhxnyIOuJG5JIa21bPMdWDE3Ap_suo_4e7WsygvvSqijDcO5myRJGgQTGyp2oQp-7i3HCk5MjUcuvUiBCnC7pBqIjR1D34o159C9bCQXLUcNogq...............................................................................................................................................................................................................................................................................................................................................................................................................................................................................................................................................................................................................................................................................................................................................................................................'"
      ]
     },
     "metadata": {},
     "execution_count": 10
    }
   ],
   "metadata": {}
  },
  {
   "cell_type": "code",
   "execution_count": null,
   "source": [],
   "outputs": [],
   "metadata": {}
  }
 ],
 "metadata": {
  "orig_nbformat": 4,
  "language_info": {
   "name": "python",
   "version": "3.9.5",
   "mimetype": "text/x-python",
   "codemirror_mode": {
    "name": "ipython",
    "version": 3
   },
   "pygments_lexer": "ipython3",
   "nbconvert_exporter": "python",
   "file_extension": ".py"
  },
  "kernelspec": {
   "name": "python3",
   "display_name": "Python 3.9.5 64-bit"
  },
  "interpreter": {
   "hash": "aee8b7b246df8f9039afb4144a1f6fd8d2ca17a180786b69acc140d282b71a49"
  }
 },
 "nbformat": 4,
 "nbformat_minor": 2
}